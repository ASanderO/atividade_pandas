{
 "cells": [
  {
   "cell_type": "markdown",
   "metadata": {},
   "source": [
    "# Pandas\n",
    "## Instruções\n",
    "\n",
    "Esta tarefa será feita completamente dentro deste _Jupyter notebook_ com as respostas inseridas\n",
    "nas células fornecidas.\n",
    "Todos os imports do python que são necessários são mostrados.\n",
    "Siga as instruções deste _notebook_ para completar as tarefas.\n",
    "Certifique-se de que os arquivos CSV estão na mesma pasta deste notebook."
   ]
  },
  {
   "cell_type": "code",
   "execution_count": 6,
   "metadata": {
    "ExecuteTime": {
     "end_time": "2023-10-24T20:28:38.222663300Z",
     "start_time": "2023-10-24T20:28:25.082927700Z"
    }
   },
   "outputs": [],
   "source": [
    "# imports necessarios para completar a tarefa\n",
    "import pandas as pd"
   ]
  },
  {
   "cell_type": "markdown",
   "metadata": {},
   "source": [
    "## Questao 1: Importar um arquivo CSV\n",
    "Escreva codigo para carregar o arquivo com dados de ex-alunos, `alumni.csv` em um `DataFrame` pandas chamado de `alumni`."
   ]
  },
  {
   "cell_type": "markdown",
   "metadata": {},
   "source": [
    "## Questão 2: Entenda o dataset\n",
    "Use os seguintes comandos do pandas para visualizar as informações do dataset:\n",
    "a) head, b) tail, c) dtypes, d) info, e) describe"
   ]
  },
  {
   "cell_type": "code",
   "execution_count": 9,
   "outputs": [],
   "source": [
    "# questao 1\n",
    "\n",
    "# Carregue o dataframe para mostrá-lo, após importar o arquivo\n",
    "alumni = 'alumni.csv'\n",
    "\n",
    "alumni = pd.read_csv(alumni)"
   ],
   "metadata": {
    "collapsed": false,
    "ExecuteTime": {
     "end_time": "2023-10-24T20:29:47.434386800Z",
     "start_time": "2023-10-24T20:29:30.927013300Z"
    }
   }
  },
  {
   "cell_type": "code",
   "execution_count": null,
   "outputs": [],
   "source": [
    "# a)\n",
    "alumni.head()"
   ],
   "metadata": {
    "collapsed": false
   }
  },
  {
   "cell_type": "code",
   "execution_count": 15,
   "outputs": [
    {
     "data": {
      "text/plain": "    Year Graduated  Gender Marital Status          Diploma Type Defaulted  \\\n83            2007    Male         Single      Standard Diploma        No   \n84            2008       M         Single  College Prep Diploma       Yes   \n85            2009    Male        Married      Standard Diploma        No   \n86            2005  Female       Divorced      Standard Diploma       Yes   \n87            2006    Male        Married      Standard Diploma       Yes   \n\n    Salary    Fee Savings ($)  \n83   75000  12066     $16,000  \n84   65000  12066     $72,000  \n85   75000  12066     $46,000  \n86  100000  12067     $32,000  \n87   75000  12067     $67,000  ",
      "text/html": "<div>\n<style scoped>\n    .dataframe tbody tr th:only-of-type {\n        vertical-align: middle;\n    }\n\n    .dataframe tbody tr th {\n        vertical-align: top;\n    }\n\n    .dataframe thead th {\n        text-align: right;\n    }\n</style>\n<table border=\"1\" class=\"dataframe\">\n  <thead>\n    <tr style=\"text-align: right;\">\n      <th></th>\n      <th>Year Graduated</th>\n      <th>Gender</th>\n      <th>Marital Status</th>\n      <th>Diploma Type</th>\n      <th>Defaulted</th>\n      <th>Salary</th>\n      <th>Fee</th>\n      <th>Savings ($)</th>\n    </tr>\n  </thead>\n  <tbody>\n    <tr>\n      <th>83</th>\n      <td>2007</td>\n      <td>Male</td>\n      <td>Single</td>\n      <td>Standard Diploma</td>\n      <td>No</td>\n      <td>75000</td>\n      <td>12066</td>\n      <td>$16,000</td>\n    </tr>\n    <tr>\n      <th>84</th>\n      <td>2008</td>\n      <td>M</td>\n      <td>Single</td>\n      <td>College Prep Diploma</td>\n      <td>Yes</td>\n      <td>65000</td>\n      <td>12066</td>\n      <td>$72,000</td>\n    </tr>\n    <tr>\n      <th>85</th>\n      <td>2009</td>\n      <td>Male</td>\n      <td>Married</td>\n      <td>Standard Diploma</td>\n      <td>No</td>\n      <td>75000</td>\n      <td>12066</td>\n      <td>$46,000</td>\n    </tr>\n    <tr>\n      <th>86</th>\n      <td>2005</td>\n      <td>Female</td>\n      <td>Divorced</td>\n      <td>Standard Diploma</td>\n      <td>Yes</td>\n      <td>100000</td>\n      <td>12067</td>\n      <td>$32,000</td>\n    </tr>\n    <tr>\n      <th>87</th>\n      <td>2006</td>\n      <td>Male</td>\n      <td>Married</td>\n      <td>Standard Diploma</td>\n      <td>Yes</td>\n      <td>75000</td>\n      <td>12067</td>\n      <td>$67,000</td>\n    </tr>\n  </tbody>\n</table>\n</div>"
     },
     "execution_count": 15,
     "metadata": {},
     "output_type": "execute_result"
    }
   ],
   "source": [
    "# b)\n",
    "alumni.tail()"
   ],
   "metadata": {
    "collapsed": false,
    "ExecuteTime": {
     "end_time": "2023-10-24T20:31:13.072666500Z",
     "start_time": "2023-10-24T20:31:13.009262100Z"
    }
   }
  },
  {
   "cell_type": "code",
   "execution_count": null,
   "metadata": {},
   "outputs": [],
   "source": [
    "# c)\n",
    "alumni.dtypes"
   ]
  },
  {
   "cell_type": "code",
   "execution_count": null,
   "metadata": {},
   "outputs": [],
   "source": [
    "# d)\n",
    "alumni.info()"
   ]
  },
  {
   "cell_type": "code",
   "execution_count": 63,
   "metadata": {
    "ExecuteTime": {
     "end_time": "2023-10-24T20:39:47.924068700Z",
     "start_time": "2023-10-24T20:39:47.900077700Z"
    }
   },
   "outputs": [
    {
     "data": {
      "text/plain": "       Year Graduated         Salary           Fee        Savings\ncount       88.000000      88.000000     88.000000      88.000000\nmean      2006.477273   84090.909091  11708.727273   47954.545455\nstd          1.560852   21234.128008   1110.647949   28324.437721\nmin       2004.000000   35000.000000  10869.000000    6000.000000\n25%       2005.000000   75000.000000  10968.000000   30000.000000\n50%       2006.500000   75000.000000  11696.000000   46000.000000\n75%       2008.000000   90000.000000  12058.250000   67000.000000\nmax       2009.000000  160000.000000  20960.000000  146000.000000",
      "text/html": "<div>\n<style scoped>\n    .dataframe tbody tr th:only-of-type {\n        vertical-align: middle;\n    }\n\n    .dataframe tbody tr th {\n        vertical-align: top;\n    }\n\n    .dataframe thead th {\n        text-align: right;\n    }\n</style>\n<table border=\"1\" class=\"dataframe\">\n  <thead>\n    <tr style=\"text-align: right;\">\n      <th></th>\n      <th>Year Graduated</th>\n      <th>Salary</th>\n      <th>Fee</th>\n      <th>Savings</th>\n    </tr>\n  </thead>\n  <tbody>\n    <tr>\n      <th>count</th>\n      <td>88.000000</td>\n      <td>88.000000</td>\n      <td>88.000000</td>\n      <td>88.000000</td>\n    </tr>\n    <tr>\n      <th>mean</th>\n      <td>2006.477273</td>\n      <td>84090.909091</td>\n      <td>11708.727273</td>\n      <td>47954.545455</td>\n    </tr>\n    <tr>\n      <th>std</th>\n      <td>1.560852</td>\n      <td>21234.128008</td>\n      <td>1110.647949</td>\n      <td>28324.437721</td>\n    </tr>\n    <tr>\n      <th>min</th>\n      <td>2004.000000</td>\n      <td>35000.000000</td>\n      <td>10869.000000</td>\n      <td>6000.000000</td>\n    </tr>\n    <tr>\n      <th>25%</th>\n      <td>2005.000000</td>\n      <td>75000.000000</td>\n      <td>10968.000000</td>\n      <td>30000.000000</td>\n    </tr>\n    <tr>\n      <th>50%</th>\n      <td>2006.500000</td>\n      <td>75000.000000</td>\n      <td>11696.000000</td>\n      <td>46000.000000</td>\n    </tr>\n    <tr>\n      <th>75%</th>\n      <td>2008.000000</td>\n      <td>90000.000000</td>\n      <td>12058.250000</td>\n      <td>67000.000000</td>\n    </tr>\n    <tr>\n      <th>max</th>\n      <td>2009.000000</td>\n      <td>160000.000000</td>\n      <td>20960.000000</td>\n      <td>146000.000000</td>\n    </tr>\n  </tbody>\n</table>\n</div>"
     },
     "execution_count": 63,
     "metadata": {},
     "output_type": "execute_result"
    }
   ],
   "source": [
    "# e)\n",
    "alumni.describe()"
   ]
  },
  {
   "cell_type": "markdown",
   "metadata": {},
   "source": [
    "## Questao 3: Limpando o dataset (parte A)\n",
    "\n",
    "a) Use o método `clean_currency` abaixo para limpar as vírculas e os cifrôes da coluna `Savings ($)` e ponha em uma nova coluna chamada `Savings`"
   ]
  },
  {
   "cell_type": "code",
   "execution_count": null,
   "metadata": {},
   "outputs": [],
   "source": [
    "def clean_currency(curr):\n",
    "    return float(curr.replace(\",\", \"\").replace(\"$\", \"\"))\n",
    "alumni['Savings'] = alumni['Savings ($)'].apply(clean_currency)"
   ]
  },
  {
   "cell_type": "code",
   "execution_count": 20,
   "metadata": {
    "ExecuteTime": {
     "end_time": "2023-10-24T20:32:35.868643300Z",
     "start_time": "2023-10-24T20:32:35.840637300Z"
    }
   },
   "outputs": [
    {
     "data": {
      "text/plain": "   Year Graduated  Gender Marital Status          Diploma Type Defaulted  \\\n0            2004    Male         Single      Standard Diploma       Yes   \n1            2005    Male        Married  College Prep Diploma        No   \n2            2006  Female         Single      Standard Diploma       Yes   \n3            2007    Male        Married      Standard Diploma        No   \n4            2006  Female       Divorced      Standard Diploma       Yes   \n\n   Salary    Fee Savings ($)  \n0  125000  10869     $86,000  \n1  100000  10869    $116,000  \n2   70000  10869     $52,000  \n3  120000  10869     $76,000  \n4   95000  11948     $52,000  ",
      "text/html": "<div>\n<style scoped>\n    .dataframe tbody tr th:only-of-type {\n        vertical-align: middle;\n    }\n\n    .dataframe tbody tr th {\n        vertical-align: top;\n    }\n\n    .dataframe thead th {\n        text-align: right;\n    }\n</style>\n<table border=\"1\" class=\"dataframe\">\n  <thead>\n    <tr style=\"text-align: right;\">\n      <th></th>\n      <th>Year Graduated</th>\n      <th>Gender</th>\n      <th>Marital Status</th>\n      <th>Diploma Type</th>\n      <th>Defaulted</th>\n      <th>Salary</th>\n      <th>Fee</th>\n      <th>Savings ($)</th>\n    </tr>\n  </thead>\n  <tbody>\n    <tr>\n      <th>0</th>\n      <td>2004</td>\n      <td>Male</td>\n      <td>Single</td>\n      <td>Standard Diploma</td>\n      <td>Yes</td>\n      <td>125000</td>\n      <td>10869</td>\n      <td>$86,000</td>\n    </tr>\n    <tr>\n      <th>1</th>\n      <td>2005</td>\n      <td>Male</td>\n      <td>Married</td>\n      <td>College Prep Diploma</td>\n      <td>No</td>\n      <td>100000</td>\n      <td>10869</td>\n      <td>$116,000</td>\n    </tr>\n    <tr>\n      <th>2</th>\n      <td>2006</td>\n      <td>Female</td>\n      <td>Single</td>\n      <td>Standard Diploma</td>\n      <td>Yes</td>\n      <td>70000</td>\n      <td>10869</td>\n      <td>$52,000</td>\n    </tr>\n    <tr>\n      <th>3</th>\n      <td>2007</td>\n      <td>Male</td>\n      <td>Married</td>\n      <td>Standard Diploma</td>\n      <td>No</td>\n      <td>120000</td>\n      <td>10869</td>\n      <td>$76,000</td>\n    </tr>\n    <tr>\n      <th>4</th>\n      <td>2006</td>\n      <td>Female</td>\n      <td>Divorced</td>\n      <td>Standard Diploma</td>\n      <td>Yes</td>\n      <td>95000</td>\n      <td>11948</td>\n      <td>$52,000</td>\n    </tr>\n  </tbody>\n</table>\n</div>"
     },
     "execution_count": 20,
     "metadata": {},
     "output_type": "execute_result"
    }
   ],
   "source": [
    "alumni.head()"
   ]
  },
  {
   "cell_type": "markdown",
   "metadata": {},
   "source": [
    "b) execute um `alumni.dtypes.Savings` para verificar se a mudança ocorreu mesmo na tabela"
   ]
  },
  {
   "cell_type": "code",
   "execution_count": null,
   "metadata": {},
   "outputs": [],
   "source": [
    "alumni.dtypes.Savings"
   ]
  },
  {
   "cell_type": "markdown",
   "metadata": {},
   "source": [
    "## Questão 4: Limpando o data set - parte B\n",
    "\n",
    "a) Execute o comando `alumni[\"Gender].value_counts()` para verificar os campos \"M\" incorretos que devem ser convertidos para \"Male\""
   ]
  },
  {
   "cell_type": "code",
   "execution_count": 34,
   "metadata": {
    "ExecuteTime": {
     "end_time": "2023-10-24T20:35:26.336005200Z",
     "start_time": "2023-10-24T20:35:26.327520500Z"
    }
   },
   "outputs": [
    {
     "data": {
      "text/plain": "Gender\nMale      46\nFemale    39\nM          3\nName: count, dtype: int64"
     },
     "execution_count": 34,
     "metadata": {},
     "output_type": "execute_result"
    }
   ],
   "source": [
    "# a)\n",
    "alumni[\"Gender\"].value_counts()"
   ]
  },
  {
   "cell_type": "markdown",
   "metadata": {},
   "source": [
    "b) Agora use um `.replace` na coluna `Gender` para substituir os campos com valores \"M\" incorretos. _Dica:_ devemos usar `^M$`  para restringir o padrão e capturar somente a string M. Procure a documentação do método `replace` em strings."
   ]
  },
  {
   "cell_type": "code",
   "execution_count": 43,
   "metadata": {
    "ExecuteTime": {
     "end_time": "2023-10-24T20:36:37.705934100Z",
     "start_time": "2023-10-24T20:36:37.698140Z"
    }
   },
   "outputs": [],
   "source": [
    "# b)\n",
    "alumni[\"Gender\"] = alumni[\"Gender\"].replace(\"^M$\", \"Male\", regex=True)"
   ]
  },
  {
   "cell_type": "markdown",
   "metadata": {},
   "source": [
    "c) O replace não altera a coluna `Gender`. Você deve usar agora uma atribuição `alumni[\"Gender\"] = ` no valor que você fez o replace, para alterar a coluna"
   ]
  },
  {
   "cell_type": "code",
   "execution_count": null,
   "metadata": {},
   "outputs": [],
   "source": [
    "# c)\n",
    "alumni[\"Gender\"] = alumni[\"Gender\"].replace(\"^M$\", \"Male\", regex=True)"
   ]
  },
  {
   "cell_type": "markdown",
   "metadata": {},
   "source": [
    "d) Agora execute o comando `value_counts` novamenta na coluna `Gender` para verificar os valores corretos \"Male\" e \"Female\""
   ]
  },
  {
   "cell_type": "code",
   "execution_count": 60,
   "metadata": {
    "ExecuteTime": {
     "end_time": "2023-10-24T20:39:05.391029100Z",
     "start_time": "2023-10-24T20:39:05.379798600Z"
    }
   },
   "outputs": [
    {
     "data": {
      "text/plain": "Gender\nMale      49\nFemale    39\nName: count, dtype: int64"
     },
     "execution_count": 60,
     "metadata": {},
     "output_type": "execute_result"
    }
   ],
   "source": [
    "# d)\n",
    "alumni[\"Gender\"].value_counts()"
   ]
  },
  {
   "cell_type": "markdown",
   "metadata": {},
   "source": [
    "## Questão 5: Trabalhando com o data set\n",
    "\n",
    "a) obtenha a [mediana](https://pandas.pydata.org/docs/reference/api/pandas.DataFrame.median.html) (`median`), b) [média](https://pandas.pydata.org/docs/reference/api/pandas.DataFrame.mean.html) (`mean`) e c) [desvio padrão](https://pandas.pydata.org/docs/reference/api/pandas.DataFrame.std.html) (`std`) para a coluna `Salary`. "
   ]
  },
  {
   "cell_type": "code",
   "execution_count": null,
   "metadata": {},
   "outputs": [],
   "source": [
    "# a)\n",
    "mediana_salary = alumni[\"Salary\"].median()\n",
    "print(f\"Mediana (median) da coluna 'Salary': {mediana_salary:.2f}\")"
   ]
  },
  {
   "cell_type": "code",
   "execution_count": 53,
   "metadata": {
    "ExecuteTime": {
     "end_time": "2023-10-24T20:37:53.156329200Z",
     "start_time": "2023-10-24T20:37:53.143276300Z"
    }
   },
   "outputs": [
    {
     "name": "stdout",
     "output_type": "stream",
     "text": [
      "Média (mean) da coluna 'Salary': 84090.91\n"
     ]
    }
   ],
   "source": [
    "# b)\n",
    "media_salary = alumni[\"Salary\"].mean()\n",
    "print(f\"Média (mean) da coluna 'Salary': {media_salary:.2f}\")"
   ]
  },
  {
   "cell_type": "code",
   "execution_count": null,
   "metadata": {},
   "outputs": [],
   "source": [
    "# c)\n",
    "desvio_padrao_salary = alumni[\"Salary\"].std()\n",
    "print(f\"Desvio Padrão (std) da coluna 'Salary': {desvio_padrao_salary:.2f}\")"
   ]
  },
  {
   "cell_type": "markdown",
   "metadata": {},
   "source": [
    "d) Identifique que aluno pagou mais do que $15000 em taxas usando a coluna `Fee`."
   ]
  },
  {
   "cell_type": "code",
   "execution_count": 64,
   "metadata": {
    "ExecuteTime": {
     "end_time": "2023-10-24T20:40:35.891116800Z",
     "start_time": "2023-10-24T20:40:35.870595200Z"
    }
   },
   "outputs": [
    {
     "name": "stdout",
     "output_type": "stream",
     "text": [
      "    Year Graduated Gender Marital Status      Diploma Type Defaulted  Salary  \\\n",
      "18            2006   Male        Married  Standard Diploma        No  140000   \n",
      "\n",
      "      Fee Savings ($)  Savings  \n",
      "18  20960     $72,000  72000.0  \n"
     ]
    }
   ],
   "source": [
    "# d)\n",
    "alunos_mais_de_15000 = alumni[alumni[\"Fee\"] > 15000]\n",
    "print(alunos_mais_de_15000)"
   ]
  },
  {
   "cell_type": "code",
   "execution_count": null,
   "outputs": [],
   "source": [],
   "metadata": {
    "collapsed": false
   }
  }
 ],
 "metadata": {
  "kernelspec": {
   "display_name": "base",
   "language": "python",
   "name": "python3"
  },
  "language_info": {
   "codemirror_mode": {
    "name": "ipython",
    "version": 3
   },
   "file_extension": ".py",
   "mimetype": "text/x-python",
   "name": "python",
   "nbconvert_exporter": "python",
   "pygments_lexer": "ipython3",
   "version": "3.11.5"
  }
 },
 "nbformat": 4,
 "nbformat_minor": 2
}
